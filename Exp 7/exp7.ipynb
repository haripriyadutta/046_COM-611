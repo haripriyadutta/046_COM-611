{
 "cells": [
  {
   "cell_type": "markdown",
   "id": "3950e569",
   "metadata": {},
   "source": [
    "### implementing web scrapping on amazon shopping website by importing BeautifulSoup and requests"
   ]
  },
  {
   "cell_type": "code",
   "execution_count": null,
   "id": "05ebc6d7",
   "metadata": {},
   "outputs": [],
   "source": [
    "# from bs4 import BeautifulSoup\n",
    "import requests\n",
    "#function to extract product title\n",
    "def get_title(soup):\n",
    "    try:\n",
    "        title = soup.find(\"span\" , attrs={\"id\": \"product_title\"})\n",
    "        title_string = title.get_text(strip=True)\n",
    "    except AttributeError:\n",
    "        tite_string = \"\"\n",
    "    return title_string\n",
    "#function to extract product price\n",
    "#similar to get_title function.. find element using soup.find() with specified attributes\n",
    "\n",
    "def get_price(soup):\n",
    "    try:\n",
    "        price = soup.find(\"span\" , attrs = {\"class\":\"a-offscreen\"})\n",
    "        if price is not None:\n",
    "            price_string = price.get_text(strip=True)\n",
    "        else:\n",
    "            price_string = \"\"\n",
    "        except AttributeError:\n",
    "            price_string = \"\"\n",
    "        return price_string\n",
    "    \n",
    "#function to extract product rating \n",
    "\n",
    "def get_rating(soup):\n",
    "    try:\n",
    "        rating = soup.find(\"span\" , attrs={\"class\": \"a-icon-alt\"})\n",
    "        if rating is not None:\n",
    "            rating_string = rating.get_text(strip=True)\n",
    "        else:\n",
    "            rating_string = \"\"\n",
    "    except AttributeError:\n",
    "        rating_string = \"\"\n",
    "    return  rating_string\n",
    "\n",
    "#function to extract number of user reviews\n",
    "\n",
    "def get_review_count(soup):\n",
    "    try:\n",
    "        review_count = soup.find(\"span\" , attrs={\"id\": \"acrCustomerReviewText\"})\n",
    "        if review_count is not None:\n",
    "            review_count_string =  review_count.get_text(strip = True)\n",
    "        else : \n",
    "             review_count_string = \"\"\n",
    "    except AttributeError:\n",
    "         review_count_string = \"\"\n",
    "    return  review_count_string\n",
    "\n",
    "#function to extrcat avaailibilty status\n",
    "\n",
    "def get_availibility(soup):\n",
    "    try:\n",
    "        availibility = soup.find(\"dlv\" , attrs{\"id\" : \"availibility\"})\n",
    "        if  availibility is not None:\n",
    "             availibility_string = availibility.get_text(strip=True)\n",
    "        else:\n",
    "            "
   ]
  }
 ],
 "metadata": {
  "kernelspec": {
   "display_name": "Python 3 (ipykernel)",
   "language": "python",
   "name": "python3"
  },
  "language_info": {
   "codemirror_mode": {
    "name": "ipython",
    "version": 3
   },
   "file_extension": ".py",
   "mimetype": "text/x-python",
   "name": "python",
   "nbconvert_exporter": "python",
   "pygments_lexer": "ipython3",
   "version": "3.9.12"
  }
 },
 "nbformat": 4,
 "nbformat_minor": 5
}
